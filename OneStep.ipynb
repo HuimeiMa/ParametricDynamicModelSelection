{
 "cells": [
  {
   "cell_type": "code",
   "execution_count": 1,
   "id": "f705832d",
   "metadata": {},
   "outputs": [],
   "source": [
    "import numpy as np\n",
    "import pysindy as ps\n",
    "import timeit\n",
    "from scipy.io import loadmat\n",
    "from sklearn.metrics import mean_squared_error"
   ]
  },
  {
   "cell_type": "code",
   "execution_count": 2,
   "id": "894bdbe3",
   "metadata": {},
   "outputs": [],
   "source": [
    "dt = loadmat('lorenz_data.mat')['delta_t'][0][0]\n",
    "x = loadmat('lorenz_data.mat')['tilde_u'][1:30,:,np.newaxis].transpose(1,0,2)\n",
    "t = dt*np.arange(x.shape[1])+dt\n",
    "shape = np.concatenate([x.shape[:-1],[4]])\n",
    "u = np.zeros(shape)\n",
    "u[:,:,0] = np.cos(t)\n",
    "u[:,:,1] = (np.roll(x,-1,axis=0))[:,:,0]#u_{j+1}\n",
    "u[:,:,2] = (np.roll(x,2,axis=0))[:,:,0]\n",
    "u[:,:,3] = (np.roll(x,1,axis=0))[:,:,0]"
   ]
  },
  {
   "cell_type": "markdown",
   "id": "6e075036",
   "metadata": {},
   "source": [
    "## SINDYc"
   ]
  },
  {
   "cell_type": "code",
   "execution_count": 3,
   "id": "7c3b25f6",
   "metadata": {},
   "outputs": [],
   "source": [
    "true_coefs = np.array([8,-1,-1,1,-1,1])\n",
    "true_c = np.zeros([56,])\n",
    "true_c[0] = true_coefs[0]\n",
    "true_c[1] = true_coefs[1]\n",
    "true_c[17] = true_coefs[2]\n",
    "true_c[19] = true_coefs[3]\n",
    "true_c[42] = true_coefs[4]\n",
    "true_c[44] = true_coefs[5]"
   ]
  },
  {
   "cell_type": "code",
   "execution_count": 4,
   "id": "8853ea9d",
   "metadata": {},
   "outputs": [],
   "source": [
    "start = timeit.default_timer()\n",
    "lib = ps.PolynomialLibrary(degree=3)"
   ]
  },
  {
   "cell_type": "code",
   "execution_count": 5,
   "id": "011650aa",
   "metadata": {
    "scrolled": true
   },
   "outputs": [
    {
     "name": "stdout",
     "output_type": "stream",
     "text": [
      "(x0)' = 8.38977 1 + -0.99999 x0 + -0.58353 u0 + -1.00315 u1 u3 + 1.02261 u2 u3 + 0.19378 u0^3 + -0.99683 u0 u1 u3 + 0.97731 u0 u2 u3\n",
      "Runtime:  0.09242579992860556\n",
      "Relative coefficient errors:  [4.87206355e-02 1.03315852e-05 3.14558401e-03 2.26107472e-02\n",
      " 3.16565622e-03 2.26929277e-02]\n",
      "Total error:  0.08772695854959847\n"
     ]
    }
   ],
   "source": [
    "opt = ps.STLSQ(alpha=1e-9,threshold=0.8)\n",
    "model = ps.SINDy(feature_library=lib,optimizer=opt)\n",
    "model.fit(x, t=dt, u=u)\n",
    "stop = timeit.default_timer()\n",
    "model.print(precision=5)\n",
    "print(\"Runtime: \", stop-start)\n",
    "print(\"Relative coefficient errors: \",((model.optimizer.coef_[0][[0,1,17,19,42,44]]-true_coefs)**2/true_coefs**2)**0.5)\n",
    "print(\"Total error: \",np.linalg.norm((model.optimizer.coef_[0]-true_c), ord=None, axis=None, keepdims=False)/np.linalg.norm(true_c))"
   ]
  },
  {
   "cell_type": "markdown",
   "id": "9e9190bc",
   "metadata": {},
   "source": [
    "#### Weak SINDy"
   ]
  },
  {
   "cell_type": "code",
   "execution_count": 6,
   "id": "fa28d51b",
   "metadata": {},
   "outputs": [],
   "source": [
    "true_coefs = np.array([8,-1,-1,1,-1,1])\n",
    "true_c = np.zeros([26,])\n",
    "true_c[0] = true_coefs[0]\n",
    "true_c[1] = true_coefs[1]\n",
    "true_c[14] = true_coefs[2]\n",
    "true_c[15] = true_coefs[3]\n",
    "true_c[23] = true_coefs[4]\n",
    "true_c[24] = true_coefs[5]"
   ]
  },
  {
   "cell_type": "code",
   "execution_count": 7,
   "id": "53945458",
   "metadata": {},
   "outputs": [],
   "source": [
    "start = timeit.default_timer()\n",
    "grid_shape = np.concatenate([x.shape[:-1],[2]])\n",
    "spatiotemporal_grid = np.zeros(grid_shape)\n",
    "spatiotemporal_grid[:,:,0] = np.arange(128)[:,np.newaxis]\n",
    "spatiotemporal_grid[:,:,1] = t\n",
    "np.random.seed(100)"
   ]
  },
  {
   "cell_type": "code",
   "execution_count": 8,
   "id": "f00cdff7",
   "metadata": {},
   "outputs": [],
   "source": [
    "weak_lib = ps.WeakPDELibrary(\n",
    "    library_functions = [lambda x:x, lambda x,y: x*y, lambda x,y,z: x*y*z],\n",
    "    function_names = [lambda x:x, lambda x,y:x+y,lambda x,y,z:x+y+z],\n",
    "    derivative_order = 0,\n",
    "    spatiotemporal_grid = spatiotemporal_grid,\n",
    "    K = 5000,\n",
    "    H_xt = [10,0.2/10],\n",
    "    include_bias = True)"
   ]
  },
  {
   "cell_type": "code",
   "execution_count": 9,
   "id": "246bcf78",
   "metadata": {},
   "outputs": [
    {
     "name": "stdout",
     "output_type": "stream",
     "text": [
      "(x0)' = 8.00001 1 + -0.99999 x0 + -0.98955 u1u3 + 0.99161 u2u3 + -1.01045 u0u1u3 + 1.00839 u0u2u3\n",
      "Weakform Runtime:  5.130333899985999\n",
      "Weakform Relative coefficient errors: [9.46815033e-07 7.85777345e-06 1.04481865e-02 8.39241968e-03\n",
      " 1.04538292e-02 8.38663258e-03]\n",
      "Total error:  0.002281671078998748\n"
     ]
    }
   ],
   "source": [
    "opt = ps.STLSQ(alpha=1e-15,threshold=0.5)\n",
    "model = ps.SINDy(feature_library=weak_lib,optimizer=opt)\n",
    "model.fit(x, t = dt, u = u)\n",
    "stop = timeit.default_timer()\n",
    "model.print(precision = 5)\n",
    "\n",
    "print(\"Weakform Runtime: \", stop-start)\n",
    "print(\"Weakform Relative coefficient errors:\",((model.optimizer.coef_[0][[0,1,14,15,23,24]]-true_coefs)**2/true_coefs**2)**0.5)\n",
    "print(\"Total error: \",np.linalg.norm((model.optimizer.coef_[0]-true_c), ord=None, axis=None, keepdims=False)/np.linalg.norm(true_c))"
   ]
  },
  {
   "cell_type": "code",
   "execution_count": null,
   "id": "8b247c21",
   "metadata": {},
   "outputs": [],
   "source": []
  }
 ],
 "metadata": {
  "kernelspec": {
   "display_name": "Python 3 (ipykernel)",
   "language": "python",
   "name": "python3"
  },
  "language_info": {
   "codemirror_mode": {
    "name": "ipython",
    "version": 3
   },
   "file_extension": ".py",
   "mimetype": "text/x-python",
   "name": "python",
   "nbconvert_exporter": "python",
   "pygments_lexer": "ipython3",
   "version": "3.10.9"
  }
 },
 "nbformat": 4,
 "nbformat_minor": 5
}
