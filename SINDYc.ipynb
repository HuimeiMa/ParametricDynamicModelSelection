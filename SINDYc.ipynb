{
 "cells": [
  {
   "cell_type": "code",
   "execution_count": 1,
   "id": "f705832d",
   "metadata": {},
   "outputs": [],
   "source": [
    "import numpy as np\n",
    "import pysindy as ps\n",
    "import timeit\n",
    "from scipy.io import loadmat\n",
    "from sklearn.metrics import mean_squared_error"
   ]
  },
  {
   "cell_type": "code",
   "execution_count": 2,
   "id": "7c3b25f6",
   "metadata": {},
   "outputs": [],
   "source": [
    "dt=loadmat('lorenz_cos_0.000003.mat')['delta_t'][0][0]\n",
    "x=loadmat('lorenz_cos_0.000003.mat')['tilde_u'][:,:,np.newaxis].transpose(1,0,2)\n",
    "t=dt*np.arange(x.shape[1])\n",
    "shape=np.concatenate([x.shape[:-1],[4]])\n",
    "u=np.zeros(shape)\n",
    "u[:,:,0]=np.cos(t)\n",
    "u[:,:,1]=(np.roll(x,-1,axis=0))[:,:,0]#u_{j+1}\n",
    "u[:,:,2]=(np.roll(x,2,axis=0))[:,:,0]\n",
    "u[:,:,3]=(np.roll(x,1,axis=0))[:,:,0]\n",
    "true_coefs=np.array([8,-1,-1,1,-1,1])\n",
    "true_c = np.zeros([56,])\n",
    "true_c[0] = true_coefs[0]\n",
    "true_c[1] = true_coefs[1]\n",
    "true_c[17] = true_coefs[2]\n",
    "true_c[19] = true_coefs[3]\n",
    "true_c[42] = true_coefs[4]\n",
    "true_c[44] = true_coefs[5]"
   ]
  },
  {
   "cell_type": "code",
   "execution_count": 3,
   "id": "8853ea9d",
   "metadata": {},
   "outputs": [],
   "source": [
    "start=timeit.default_timer()\n",
    "lib=ps.PolynomialLibrary(degree=3)"
   ]
  },
  {
   "cell_type": "code",
   "execution_count": 4,
   "id": "011650aa",
   "metadata": {
    "scrolled": true
   },
   "outputs": [
    {
     "name": "stdout",
     "output_type": "stream",
     "text": [
      "(x0)' = 8.00001 1 + -0.99998 x0 + -1.00077 u1 u3 + 1.00169 u2 u3 + -0.99921 u0 u1 u3 + 0.99824 u0 u2 u3\n",
      "Runtime:  0.1084495999966748\n",
      "Relative coefficient errors:  [1.17461019e-06 2.48037162e-05 7.67937097e-04 1.68917084e-03\n",
      " 7.90067800e-04 1.75725134e-03]\n",
      "Total error:  0.0003220376352438177\n"
     ]
    }
   ],
   "source": [
    "opt=ps.STLSQ(alpha=1e-6,threshold=5e-1)\n",
    "model = ps.SINDy(feature_library=lib,optimizer=opt)\n",
    "model.fit(x, t=dt, u=u)\n",
    "stop=timeit.default_timer()\n",
    "model.print(precision=5)\n",
    "print(\"Runtime: \", stop-start)\n",
    "print(\"Relative coefficient errors: \",((model.optimizer.coef_[0][[0,1,17,19,42,44]]-true_coefs)**2/true_coefs**2)**0.5)\n",
    "print(\"Total error: \",np.linalg.norm((model.optimizer.coef_[0]-true_c), ord=None, axis=None, keepdims=False)/np.linalg.norm(true_c))"
   ]
  },
  {
   "cell_type": "code",
   "execution_count": null,
   "id": "67ae6022",
   "metadata": {},
   "outputs": [],
   "source": []
  }
 ],
 "metadata": {
  "kernelspec": {
   "display_name": "Python 3 (ipykernel)",
   "language": "python",
   "name": "python3"
  },
  "language_info": {
   "codemirror_mode": {
    "name": "ipython",
    "version": 3
   },
   "file_extension": ".py",
   "mimetype": "text/x-python",
   "name": "python",
   "nbconvert_exporter": "python",
   "pygments_lexer": "ipython3",
   "version": "3.10.9"
  }
 },
 "nbformat": 4,
 "nbformat_minor": 5
}
