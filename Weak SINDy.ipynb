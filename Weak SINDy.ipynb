{
 "cells": [
  {
   "cell_type": "code",
   "execution_count": 1,
   "id": "f705832d",
   "metadata": {},
   "outputs": [],
   "source": [
    "import numpy as np\n",
    "import pysindy as ps\n",
    "import timeit\n",
    "from scipy.io import loadmat\n",
    "from sklearn.metrics import mean_squared_error"
   ]
  },
  {
   "cell_type": "code",
   "execution_count": 2,
   "id": "7c3b25f6",
   "metadata": {},
   "outputs": [],
   "source": [
    "dt=loadmat('lorenz_cos_0.000003.mat')['delta_t'][0][0]\n",
    "x=loadmat('lorenz_cos_0.000003.mat')['tilde_u'][:,:,np.newaxis].transpose(1,0,2)\n",
    "t=dt*np.arange(x.shape[1])\n",
    "shape=np.concatenate([x.shape[:-1],[4]])\n",
    "u=np.zeros(shape)\n",
    "u[:,:,0]=np.cos(t)\n",
    "u[:,:,1]=(np.roll(x,-1,axis=0))[:,:,0]#u_{j+1}\n",
    "u[:,:,2]=(np.roll(x,2,axis=0))[:,:,0]\n",
    "u[:,:,3]=(np.roll(x,1,axis=0))[:,:,0]\n",
    "true_coefs=np.array([8,-1,-1,1,-1,1])\n",
    "true_c = np.zeros([26,])\n",
    "true_c[0] = true_coefs[0]\n",
    "true_c[1] = true_coefs[1]\n",
    "true_c[14] = true_coefs[2]\n",
    "true_c[15] = true_coefs[3]\n",
    "true_c[23] = true_coefs[4]\n",
    "true_c[24] = true_coefs[5]"
   ]
  },
  {
   "cell_type": "code",
   "execution_count": 3,
   "id": "238163df",
   "metadata": {},
   "outputs": [],
   "source": [
    "start=timeit.default_timer()\n",
    "grid_shape=np.concatenate([x.shape[:-1],[2]])\n",
    "spatiotemporal_grid=np.zeros(grid_shape)\n",
    "spatiotemporal_grid[:,:,0]=np.arange(128)[:,np.newaxis]\n",
    "spatiotemporal_grid[:,:,1]=t\n",
    "np.random.seed(100)"
   ]
  },
  {
   "cell_type": "code",
   "execution_count": 4,
   "id": "a697d905",
   "metadata": {},
   "outputs": [],
   "source": [
    "weak_lib=ps.WeakPDELibrary(\n",
    "    library_functions=[lambda x:x, lambda x,y: x*y, lambda x,y,z: x*y*z],\n",
    "    function_names=[lambda x:x, lambda x,y:x+y,lambda x,y,z:x+y+z],\n",
    "    derivative_order=0,\n",
    "    spatiotemporal_grid=spatiotemporal_grid,\n",
    "    K=5000,\n",
    "    H_xt=[10,0.2/10],\n",
    "    include_bias=True)"
   ]
  },
  {
   "cell_type": "code",
   "execution_count": 5,
   "id": "acb07dec",
   "metadata": {},
   "outputs": [
    {
     "name": "stdout",
     "output_type": "stream",
     "text": [
      "(x0)' = 8.00000 1 + -0.99999 x0 + -1.00060 u1u3 + 1.00042 u2u3 + -0.99940 u0u1u3 + 0.99957 u0u2u3\n",
      "Weakform Runtime:  4.084554700006265\n",
      "Weakform Relative coefficient errors: [5.77274497e-07 8.21491678e-06 5.98124010e-04 4.22335576e-04\n",
      " 6.02634376e-04 4.28749940e-04]\n",
      "Total error:  0.00012529404172894536\n"
     ]
    }
   ],
   "source": [
    "opt=ps.STLSQ(alpha=1e-8,threshold=0.3)\n",
    "model = ps.SINDy(feature_library=weak_lib,optimizer=opt)\n",
    "model.fit(x, t=dt, u=u)\n",
    "stop=timeit.default_timer()\n",
    "model.print(precision=5)\n",
    "\n",
    "print(\"Weakform Runtime: \", stop-start)\n",
    "print(\"Weakform Relative coefficient errors:\",((model.optimizer.coef_[0][[0,1,14,15,23,24]]-true_coefs)**2/true_coefs**2)**0.5)\n",
    "print(\"Total error: \",np.linalg.norm((model.optimizer.coef_[0]-true_c), ord=None, axis=None, keepdims=False)/np.linalg.norm(true_c))"
   ]
  },
  {
   "cell_type": "code",
   "execution_count": null,
   "id": "63f3eba3",
   "metadata": {},
   "outputs": [],
   "source": []
  }
 ],
 "metadata": {
  "kernelspec": {
   "display_name": "Python 3 (ipykernel)",
   "language": "python",
   "name": "python3"
  },
  "language_info": {
   "codemirror_mode": {
    "name": "ipython",
    "version": 3
   },
   "file_extension": ".py",
   "mimetype": "text/x-python",
   "name": "python",
   "nbconvert_exporter": "python",
   "pygments_lexer": "ipython3",
   "version": "3.10.9"
  }
 },
 "nbformat": 4,
 "nbformat_minor": 5
}
